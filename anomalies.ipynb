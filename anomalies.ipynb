{
 "cells": [
  {
   "cell_type": "code",
   "execution_count": 1,
   "metadata": {},
   "outputs": [],
   "source": [
    "import pandas as pd\n",
    "import matplotlib.pyplot as plt\n",
    "from pandas.plotting import register_matplotlib_converters\n",
    "from statsmodels.tsa.seasonal import seasonal_decompose\n",
    "from scipy import cluster\n",
    "from scipy.cluster.vq import kmeans\n",
    "import numpy as np\n",
    "from pyod.models.knn import KNN\n",
    "\n",
    "%matplotlib inline"
   ]
  },
  {
   "cell_type": "code",
   "execution_count": 20,
   "metadata": {},
   "outputs": [],
   "source": [
    "df = pd.read_csv('test.csv', header=0, sep=';')"
   ]
  },
  {
   "cell_type": "code",
   "execution_count": 22,
   "metadata": {},
   "outputs": [],
   "source": [
    "df['Time End Local Tz'] = pd.to_datetime(df['Time End Local Tz'], errors='coerce')\n",
    "df['Time Start Local Tz'] = pd.to_datetime(df['Time Start Local Tz'], errors='coerce')"
   ]
  },
  {
   "cell_type": "code",
   "execution_count": 23,
   "metadata": {},
   "outputs": [],
   "source": [
    "df.index = df['Time End Local Tz']\n",
    "df = df.resample('D').mean()"
   ]
  },
  {
   "cell_type": "code",
   "execution_count": 25,
   "metadata": {},
   "outputs": [],
   "source": [
    "df = df.fillna(df.mean())"
   ]
  },
  {
   "cell_type": "code",
   "execution_count": 26,
   "metadata": {},
   "outputs": [],
   "source": [
    "train = df[0:79]\n",
    "test = df[79:]"
   ]
  },
  {
   "cell_type": "code",
   "execution_count": 27,
   "metadata": {},
   "outputs": [],
   "source": [
    "register_matplotlib_converters()"
   ]
  },
  {
   "cell_type": "code",
   "execution_count": 69,
   "metadata": {},
   "outputs": [],
   "source": [
    "def find_anomalies(id=2166):\n",
    "    df1 = df[df['User ID'] == id]\n",
    "    value_raw = df1.Value.values\n",
    "    value_raw = value_raw.reshape(-1, 1)\n",
    "    value_raw = value_raw.astype('float64')\n",
    "    X = df['Value'].values.reshape(-1,1)\n",
    "    clf = KNN(contamination=0.038, n_neighbors=5)\n",
    "    clf.fit(X)\n",
    "    y_train_pred = clf.labels_ \n",
    "    y_train_scores = clf.decision_scores_\n",
    "    arr = clf.predict(X)\n",
    "    df1['Anomaly'] = arr\n",
    "    return df1"
   ]
  },
  {
   "cell_type": "code",
   "execution_count": 70,
   "metadata": {},
   "outputs": [
    {
     "data": {
      "text/html": [
       "<div>\n",
       "<style scoped>\n",
       "    .dataframe tbody tr th:only-of-type {\n",
       "        vertical-align: middle;\n",
       "    }\n",
       "\n",
       "    .dataframe tbody tr th {\n",
       "        vertical-align: top;\n",
       "    }\n",
       "\n",
       "    .dataframe thead th {\n",
       "        text-align: right;\n",
       "    }\n",
       "</style>\n",
       "<table border=\"1\" class=\"dataframe\">\n",
       "  <thead>\n",
       "    <tr style=\"text-align: right;\">\n",
       "      <th></th>\n",
       "      <th>User ID</th>\n",
       "      <th>Value</th>\n",
       "      <th>Anomaly</th>\n",
       "    </tr>\n",
       "    <tr>\n",
       "      <th>Time End Local Tz</th>\n",
       "      <th></th>\n",
       "      <th></th>\n",
       "      <th></th>\n",
       "    </tr>\n",
       "  </thead>\n",
       "  <tbody>\n",
       "    <tr>\n",
       "      <th>2019-05-02 00:00:00+03:00</th>\n",
       "      <td>2166.0</td>\n",
       "      <td>60.924883</td>\n",
       "      <td>0</td>\n",
       "    </tr>\n",
       "    <tr>\n",
       "      <th>2019-05-03 00:00:00+03:00</th>\n",
       "      <td>2166.0</td>\n",
       "      <td>81.354067</td>\n",
       "      <td>0</td>\n",
       "    </tr>\n",
       "    <tr>\n",
       "      <th>2019-05-04 00:00:00+03:00</th>\n",
       "      <td>2166.0</td>\n",
       "      <td>72.649746</td>\n",
       "      <td>0</td>\n",
       "    </tr>\n",
       "    <tr>\n",
       "      <th>2019-05-05 00:00:00+03:00</th>\n",
       "      <td>2166.0</td>\n",
       "      <td>44.496000</td>\n",
       "      <td>0</td>\n",
       "    </tr>\n",
       "    <tr>\n",
       "      <th>2019-05-06 00:00:00+03:00</th>\n",
       "      <td>2166.0</td>\n",
       "      <td>49.780000</td>\n",
       "      <td>0</td>\n",
       "    </tr>\n",
       "    <tr>\n",
       "      <th>...</th>\n",
       "      <td>...</td>\n",
       "      <td>...</td>\n",
       "      <td>...</td>\n",
       "    </tr>\n",
       "    <tr>\n",
       "      <th>2019-08-10 00:00:00+03:00</th>\n",
       "      <td>2166.0</td>\n",
       "      <td>59.598958</td>\n",
       "      <td>0</td>\n",
       "    </tr>\n",
       "    <tr>\n",
       "      <th>2019-08-11 00:00:00+03:00</th>\n",
       "      <td>2166.0</td>\n",
       "      <td>80.009709</td>\n",
       "      <td>0</td>\n",
       "    </tr>\n",
       "    <tr>\n",
       "      <th>2019-08-12 00:00:00+03:00</th>\n",
       "      <td>2166.0</td>\n",
       "      <td>90.636364</td>\n",
       "      <td>0</td>\n",
       "    </tr>\n",
       "    <tr>\n",
       "      <th>2019-08-13 00:00:00+03:00</th>\n",
       "      <td>2166.0</td>\n",
       "      <td>66.073446</td>\n",
       "      <td>0</td>\n",
       "    </tr>\n",
       "    <tr>\n",
       "      <th>2019-08-14 00:00:00+03:00</th>\n",
       "      <td>2166.0</td>\n",
       "      <td>97.924528</td>\n",
       "      <td>1</td>\n",
       "    </tr>\n",
       "  </tbody>\n",
       "</table>\n",
       "<p>105 rows × 3 columns</p>\n",
       "</div>"
      ],
      "text/plain": [
       "                           User ID      Value  Anomaly\n",
       "Time End Local Tz                                     \n",
       "2019-05-02 00:00:00+03:00   2166.0  60.924883        0\n",
       "2019-05-03 00:00:00+03:00   2166.0  81.354067        0\n",
       "2019-05-04 00:00:00+03:00   2166.0  72.649746        0\n",
       "2019-05-05 00:00:00+03:00   2166.0  44.496000        0\n",
       "2019-05-06 00:00:00+03:00   2166.0  49.780000        0\n",
       "...                            ...        ...      ...\n",
       "2019-08-10 00:00:00+03:00   2166.0  59.598958        0\n",
       "2019-08-11 00:00:00+03:00   2166.0  80.009709        0\n",
       "2019-08-12 00:00:00+03:00   2166.0  90.636364        0\n",
       "2019-08-13 00:00:00+03:00   2166.0  66.073446        0\n",
       "2019-08-14 00:00:00+03:00   2166.0  97.924528        1\n",
       "\n",
       "[105 rows x 3 columns]"
      ]
     },
     "execution_count": 70,
     "metadata": {},
     "output_type": "execute_result"
    }
   ],
   "source": [
    "res = find_anomalies()\n",
    "res"
   ]
  },
  {
   "cell_type": "code",
   "execution_count": null,
   "metadata": {},
   "outputs": [],
   "source": []
  },
  {
   "cell_type": "code",
   "execution_count": null,
   "metadata": {},
   "outputs": [],
   "source": []
  },
  {
   "cell_type": "code",
   "execution_count": null,
   "metadata": {},
   "outputs": [],
   "source": []
  }
 ],
 "metadata": {
  "kernelspec": {
   "display_name": "Python 3",
   "language": "python",
   "name": "python3"
  },
  "language_info": {
   "codemirror_mode": {
    "name": "ipython",
    "version": 3
   },
   "file_extension": ".py",
   "mimetype": "text/x-python",
   "name": "python",
   "nbconvert_exporter": "python",
   "pygments_lexer": "ipython3",
   "version": "3.8.3"
  }
 },
 "nbformat": 4,
 "nbformat_minor": 4
}
