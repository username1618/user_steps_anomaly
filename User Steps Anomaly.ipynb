{
 "cells": [
  {
   "cell_type": "markdown",
   "metadata": {},
   "source": [
    "<h1>Тестовое задание на позицию Junior Data Engineer</h1><br> <b>Задача</b> - создать функцию на языке Python, которая для указанного произвольного пользователя берет его историю шагов и на выходе  отдает список размеченных дней: неизвестно, обычный или необычный.<br><br><b>Критерий</b> - это попадание в ожидание среднестатистического человека о работе “умной” системы, которая смотрит его данные и решает, что сегодня обычный или необычный день."
   ]
  },
  {
   "cell_type": "markdown",
   "metadata": {},
   "source": [
    "Данную задачу можно свести к <u>поиску аномальных данных</u> , т.е. поиску тех данных, которые не укладываются в привычную картину. Достаточно стабильным с точки зрения качества является метод изолирующего леса (Isolation Forest).\n",
    "\n",
    "<b>В основе алгоритма Isolation Forest лежит тенденция к тому, что аномальные \"точки\" легче отделить от остальной части выборки по сравнению с нормальными точками.</b><br> Изоляционный лес построен на основе деревьев решений. В этих деревьях разделы создаются сначала случайным образом выбирая объект, а затем выбирая случайное значение разделения между минимальным и максимальным значением выбранного объекта. Повторюсь, что выбросы встречаются реже, чем обычные наблюдения, и отличаются от них с точки зрения значений (они находятся дальше от обычных наблюдений в пространстве признаков). Вот почему при использовании такого случайного разбиения они должны быть идентифицированы ближе к корню дерева (более короткая средняя длина пути, т.е. число ребер, которые должно пройти наблюдение в дереве, идущем от корня к конечному узлу), с меньшим количеством расщеплений.\n",
    "\n",
    "В качестве альтернативы можно рассмотреть метрические методы, например используя перцентили заданного уровня, однако такой подход будет менее точным, т.к. он основывается на пороговых значениях и будет давать сбой на более-менее равномерных данных.\n",
    "\n",
    "Также имеет смысл подумать над использованием закона Вебера — Фехнера — эмпирический психофизиологический закон, заключающийся в том, что интенсивность ощущения чего-либо прямо пропорциональна логарифму интенсивности раздражителя."
   ]
  },
  {
   "cell_type": "markdown",
   "metadata": {},
   "source": [
    "<b>Шаг 1:</b> Импортируем зависимости и отключаем предупреждения."
   ]
  },
  {
   "cell_type": "code",
   "execution_count": 16,
   "metadata": {},
   "outputs": [],
   "source": [
    "import numpy as np \n",
    "import pandas as pd \n",
    "import matplotlib.pyplot as plt\n",
    "import warnings\n",
    "warnings.filterwarnings('ignore')\n",
    "\n",
    "from dateutil.parser import parse\n",
    "from sklearn.ensemble import IsolationForest"
   ]
  },
  {
   "cell_type": "markdown",
   "metadata": {},
   "source": [
    "<b>Шаг 2:</b> Создаем функцию для загрузки csv-файла, фильтрации данных по заданному user_id и подсчета суммарного числа шагов в разрезе по дням.<br> P.S. В качестве времени используется локальное время пользователя. В дальнейшем можно добавить проверку на наличие строк с началом в одном дне, и окончанием в следующем."
   ]
  },
  {
   "cell_type": "code",
   "execution_count": 9,
   "metadata": {},
   "outputs": [],
   "source": [
    "def getUserSteps(csv_path, uid):\n",
    "    csv = pd.read_csv(csv_path, sep=',')\n",
    "    csv = csv[csv['User ID'] == uid]\n",
    "    \n",
    "    csv['Time End Local Tz'  ] = csv['Time End Local Tz'  ].apply(lambda x: parse(x))\n",
    "    csv['Time Start Local Tz'] = csv['Time Start Local Tz'].apply(lambda x: parse(x))\n",
    "    csv['Date'] = csv['Time Start Local Tz'].apply(lambda x: x.date())\n",
    "\n",
    "    return csv.groupby(['Date'])['Value'].sum().reset_index()   "
   ]
  },
  {
   "cell_type": "markdown",
   "metadata": {},
   "source": [
    "<b>Шаг 3:</b> Загружаем данные и выводим первые 5 записей."
   ]
  },
  {
   "cell_type": "code",
   "execution_count": 20,
   "metadata": {},
   "outputs": [
    {
     "data": {
      "text/html": [
       "<div>\n",
       "<style scoped>\n",
       "    .dataframe tbody tr th:only-of-type {\n",
       "        vertical-align: middle;\n",
       "    }\n",
       "\n",
       "    .dataframe tbody tr th {\n",
       "        vertical-align: top;\n",
       "    }\n",
       "\n",
       "    .dataframe thead th {\n",
       "        text-align: right;\n",
       "    }\n",
       "</style>\n",
       "<table border=\"1\" class=\"dataframe\">\n",
       "  <thead>\n",
       "    <tr style=\"text-align: right;\">\n",
       "      <th></th>\n",
       "      <th>Date</th>\n",
       "      <th>Value</th>\n",
       "    </tr>\n",
       "  </thead>\n",
       "  <tbody>\n",
       "    <tr>\n",
       "      <th>0</th>\n",
       "      <td>2019-05-02</td>\n",
       "      <td>12977.0</td>\n",
       "    </tr>\n",
       "    <tr>\n",
       "      <th>1</th>\n",
       "      <td>2019-05-03</td>\n",
       "      <td>17003.0</td>\n",
       "    </tr>\n",
       "    <tr>\n",
       "      <th>2</th>\n",
       "      <td>2019-05-04</td>\n",
       "      <td>14312.0</td>\n",
       "    </tr>\n",
       "    <tr>\n",
       "      <th>3</th>\n",
       "      <td>2019-05-05</td>\n",
       "      <td>11124.0</td>\n",
       "    </tr>\n",
       "    <tr>\n",
       "      <th>4</th>\n",
       "      <td>2019-05-06</td>\n",
       "      <td>7467.0</td>\n",
       "    </tr>\n",
       "  </tbody>\n",
       "</table>\n",
       "</div>"
      ],
      "text/plain": [
       "         Date    Value\n",
       "0  2019-05-02  12977.0\n",
       "1  2019-05-03  17003.0\n",
       "2  2019-05-04  14312.0\n",
       "3  2019-05-05  11124.0\n",
       "4  2019-05-06   7467.0"
      ]
     },
     "execution_count": 20,
     "metadata": {},
     "output_type": "execute_result"
    }
   ],
   "source": [
    "df = getUserSteps(\"D:/Dowloads/query_result_2019-12-24T07_29_06.659397Z.csv\",2166)\n",
    "df.head()"
   ]
  },
  {
   "cell_type": "markdown",
   "metadata": {},
   "source": [
    "<b>Шаг 4:</b> Создаем функцию для обучения модели IsolationForest и получения предсказания об аномальных точках."
   ]
  },
  {
   "cell_type": "code",
   "execution_count": 21,
   "metadata": {},
   "outputs": [],
   "source": [
    "def fitIsolationForest(n_estimators=100, max_samples='auto', contamination=float(.15), n_jobs=-1, random_state=1618):\n",
    "    \n",
    "    to_model_columns=df.columns[1:2]# колонки с метриками(в данном случае у нас одна метрика, но есть возможность расширения)\n",
    "\n",
    "    clf=IsolationForest(n_estimators=n_estimators, max_samples=max_samples, contamination=contamination,  n_jobs=n_jobs, random_state=random_state)\n",
    "    clf.fit(df[to_model_columns])\n",
    "    \n",
    "    pred = clf.predict(df[to_model_columns])\n",
    "    df['Anomaly']=pred \n",
    "    \n",
    "    #Выводим информацию о найденных аномалиях в данных\n",
    "    outliers = df.loc[df['Anomaly']==-1]\n",
    "    outlier_index = list(outliers.index)\n",
    "    print('Abnormal Indices:', outlier_index)\n",
    "    print('Anomaly counts:\\n', df['Anomaly'].value_counts())"
   ]
  },
  {
   "cell_type": "markdown",
   "metadata": {},
   "source": [
    "<b>Шаг 5:</b> Обучяем модель IsolationForest, получаем предсказания и добавляем их в исходную таблицу."
   ]
  },
  {
   "cell_type": "code",
   "execution_count": 23,
   "metadata": {},
   "outputs": [
    {
     "name": "stdout",
     "output_type": "stream",
     "text": [
      "Abnormal Indices: [4, 8, 16, 21, 25, 29, 33, 52, 68, 78, 79, 80, 91, 92, 93, 97]\n",
      "Anomaly counts:\n",
      "  1    88\n",
      "-1    16\n",
      "Name: Anomaly, dtype: int64\n"
     ]
    },
    {
     "name": "stderr",
     "output_type": "stream",
     "text": [
      "D:\\AppData\\Roaming\\Python\\Python36\\site-packages\\sklearn\\ensemble\\iforest.py:415: DeprecationWarning: threshold_ attribute is deprecated in 0.20 and will be removed in 0.22.\n",
      "  \" be removed in 0.22.\", DeprecationWarning)\n"
     ]
    }
   ],
   "source": [
    "fitIsolationForest()"
   ]
  },
  {
   "cell_type": "markdown",
   "metadata": {},
   "source": [
    "<b>Шаг 6:</b> Создаем функцию для визуализации данных."
   ]
  },
  {
   "cell_type": "code",
   "execution_count": 25,
   "metadata": {},
   "outputs": [],
   "source": [
    "def Plot():\n",
    "    fig, ax = plt.subplots()\n",
    "    \n",
    "    x=df['Date'].values.reshape(-1, 1) \n",
    "    y=df['Value'].values.reshape(-1, 1)\n",
    "    marks=df['Anomaly'].values \n",
    "    \n",
    "    colors = np.where(marks==1,'g','r') \n",
    "    \n",
    "    ax.scatter(x, y, c=colors, s=15, linewidth=0)\n",
    "    \n",
    "    ax.set_facecolor('black')\n",
    "    ax.set_title('User steps count')\n",
    "    \n",
    "    fig.set_figwidth(12)   \n",
    "    fig.set_figheight(8)\n",
    "    \n",
    "    plt.show()"
   ]
  },
  {
   "cell_type": "markdown",
   "metadata": {},
   "source": [
    "<b>Шаг 7:</b> Выводим график"
   ]
  },
  {
   "cell_type": "code",
   "execution_count": 26,
   "metadata": {},
   "outputs": [
    {
     "data": {
      "image/png": "[encoded data removed]",
      "text/plain": [
       "<Figure size 864x576 with 1 Axes>"
      ]
     },
     "metadata": {
      "needs_background": "light"
     },
     "output_type": "display_data"
    }
   ],
   "source": [
    "Plot()"
   ]
  }
 ],
 "metadata": {
  "kernelspec": {
   "display_name": "Python 3",
   "language": "python",
   "name": "python3"
  },
  "language_info": {
   "codemirror_mode": {
    "name": "ipython",
    "version": 3
   },
   "file_extension": ".py",
   "mimetype": "text/x-python",
   "name": "python",
   "nbconvert_exporter": "python",
   "pygments_lexer": "ipython3",
   "version": "3.6.5"
  }
 },
 "nbformat": 4,
 "nbformat_minor": 2
}
